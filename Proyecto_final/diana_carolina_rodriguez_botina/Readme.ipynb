{
  "nbformat": 4,
  "nbformat_minor": 0,
  "metadata": {
    "colab": {
      "provenance": [],
      "authorship_tag": "ABX9TyMuDrm1dI+ukszk8WyvoTj+",
      "include_colab_link": true
    },
    "kernelspec": {
      "name": "python3",
      "display_name": "Python 3"
    },
    "language_info": {
      "name": "python"
    }
  },
  "cells": [
    {
      "cell_type": "markdown",
      "metadata": {
        "id": "view-in-github",
        "colab_type": "text"
      },
      "source": [
        "<a href=\"https://colab.research.google.com/github/DianaRUD/curso_computacion_cuantica/blob/main/Proyecto_final/diana_carolina_rodriguez_botina/Readme.ipynb\" target=\"_parent\"><img src=\"https://colab.research.google.com/assets/colab-badge.svg\" alt=\"Open In Colab\"/></a>"
      ]
    },
    {
      "cell_type": "markdown",
      "source": [
        "Proyecto Cuantica Solución al problema de la factorización de enteros largos con el algoritmo de Shor al algoritmo de encriptación RSA\n",
        "\n",
        "Proyecto final del curso de Computación Cuántica\n",
        "\n",
        "Presentado a: Ruben Dartio Guerrero Mancilla\n",
        "\n",
        "Presentado por:\n",
        "\n",
        "Diana Carolina Rodriguez Botina Código estudiantil: 20212678016"
      ],
      "metadata": {
        "id": "HzhnPIa_qtNp"
      }
    }
  ]
}